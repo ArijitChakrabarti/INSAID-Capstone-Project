{
 "cells": [
  {
   "cell_type": "code",
   "execution_count": 1,
   "metadata": {},
   "outputs": [],
   "source": [
    "#running this code will allow the creation of two .csv files namely gender_age_train.csv and phone_brand_device_model.csv\n",
    "import mysql.connector\n",
    "import csv\n",
    "import pandas as pd"
   ]
  },
  {
   "cell_type": "code",
   "execution_count": 2,
   "metadata": {},
   "outputs": [
    {
     "name": "stdout",
     "output_type": "stream",
     "text": [
      "<mysql.connector.connection_cext.CMySQLConnection object at 0x000001DD6F6EEEC8>\n",
      "['gender_age_train', 'phone_brand_device_model']\n",
      "                 device_id gender  age   group\n",
      "0     -8076087639492063270      M   35  M32-38\n",
      "1     -2897161552818060146      M   35  M32-38\n",
      "2     -8260683887967679142      M   35  M32-38\n",
      "3     -4938849341048082022      M   30  M29-31\n",
      "4       245133531816851882      M   30  M29-31\n",
      "...                    ...    ...  ...     ...\n",
      "74528 -2948830944607587358      M   49    M39+\n",
      "74529  8109513034698778141      M   24  M23-26\n",
      "74530 -8925495697579241652      M   24  M23-26\n",
      "74531 -8386019232049676130      F   27  F27-28\n",
      "74532  5713096817783497681      M   24  M23-26\n",
      "\n",
      "[74533 rows x 4 columns]\n",
      "gender_age_train.csv file has been prepared\n",
      "                 device_id phone_brand   device_model\n",
      "0      1877775838486905855        vivo            Y13\n",
      "1     -3766087376657242966          小米           V183\n",
      "2     -6238937574958215831        OPPO            R7s\n",
      "3      8973197758510677470          三星          A368t\n",
      "4     -2015528097870762664          小米        红米Note2\n",
      "...                    ...         ...            ...\n",
      "87693  6684002353030942179          小米         红米note\n",
      "87694  2154262961244607779        vivo            X3S\n",
      "87695  6712777652910774260         联想            红牛V5\n",
      "87696 -3166712825192649371         HTC     Desire 820\n",
      "87697  5635100001859219954          三星  Galaxy Note 2\n",
      "\n",
      "[87698 rows x 3 columns]\n",
      "phone_brand_device_model.csv file has been prepared\n"
     ]
    }
   ],
   "source": [
    "#<mysql.connector.connection_cext.CMySQLConnection object at 0x0000029394FA5448>\n",
    "#tables\n",
    "#('events_data',)\n",
    "#('gender_age_train',)\n",
    "#('phone_brand_device_model',)\n",
    "# combining header and body code\n",
    "\n",
    "mydb = mysql.connector.connect(\n",
    "    host = 'cpanel.insaid.co',\n",
    "    user = 'student',\n",
    "    password = 'student',\n",
    "    database = 'Capstone1',\n",
    "    )\n",
    "print(mydb)  #checking whether the connection is active\n",
    "\n",
    "mycursor = mydb.cursor()\n",
    "\n",
    "mycursor.execute(\"SHOW TABLES\")  #all the tables in the sql database\n",
    "\n",
    "y=[]\n",
    "for x in mycursor:\n",
    "    y.append(x[0])\n",
    "removed = y.pop(0)   #removing the first file events_data which is too big to download (provided separately)\n",
    "print(y)\n",
    "\n",
    "for element in y:\n",
    "    mycursor.execute(\"SELECT * FROM {}\".format(element))  #element is the file name from y\n",
    "    with open(element+\".csv\",'w', encoding=\"utf-8\" )as fileout: #use encoding as otherwise there is an error\n",
    "        csv.writer(fileout).writerows(mycursor.fetchall()) #writing the data to the csv file\n",
    "        top_row = [i[0] for i in mycursor.description] #getting the header into variable top_row\n",
    "        df = pd.read_csv(element+\".csv\", header = None) # read the csv file to a dataframe\n",
    "        df.to_csv(element+\".csv\", header = top_row, index = False) #push the top_row data into header for each file and write to file\n",
    "        df=pd.read_csv(element+\".csv\") #read the updated data to dataframe\n",
    "        print(df) #print to check data\n",
    "    print(element + \".csv file has been prepared\")  #confirmation of work done"
   ]
  }
 ],
 "metadata": {
  "kernelspec": {
   "display_name": "Python 3",
   "language": "python",
   "name": "python3"
  },
  "language_info": {
   "codemirror_mode": {
    "name": "ipython",
    "version": 3
   },
   "file_extension": ".py",
   "mimetype": "text/x-python",
   "name": "python",
   "nbconvert_exporter": "python",
   "pygments_lexer": "ipython3",
   "version": "3.7.9"
  }
 },
 "nbformat": 4,
 "nbformat_minor": 4
}
